{
 "cells": [
  {
   "cell_type": "markdown",
   "id": "2a9512cc-c6e2-4b5b-8a8a-df19d6f1bd60",
   "metadata": {},
   "source": [
    "# Database Performance Optimization: Practical Examples"
   ]
  },
  {
   "cell_type": "code",
   "execution_count": 3,
   "id": "9916833c-c253-457b-8e48-f5c5b8276386",
   "metadata": {},
   "outputs": [],
   "source": [
    "import pandas as pd\n",
    "import numpy as np\n",
    "import matplotlib.pyplot as plt\n",
    "import sqlite3\n",
    "from sqlalchemy import create_engine\n",
    "import time"
   ]
  },
  {
   "cell_type": "code",
   "execution_count": 5,
   "id": "fb4f0168-976a-4360-9536-da12fc7faad5",
   "metadata": {},
   "outputs": [
    {
     "name": "stdout",
     "output_type": "stream",
     "text": [
      "Created a table with 1000000 records.\n"
     ]
    }
   ],
   "source": [
    "# Database Performance Optimization: Practical Examples\n",
    "\n",
    "import pandas as pd\n",
    "import numpy as np\n",
    "import matplotlib.pyplot as plt\n",
    "import sqlite3\n",
    "from sqlalchemy import create_engine\n",
    "import time\n",
    "\n",
    "# Create a sample database\n",
    "conn = sqlite3.connect(':memory:')\n",
    "cursor = conn.cursor()\n",
    "\n",
    "# Create a large table for demonstration\n",
    "cursor.execute('''\n",
    "CREATE TABLE orders (\n",
    "    id INTEGER PRIMARY KEY,\n",
    "    customer_id INTEGER,\n",
    "    order_date TEXT,\n",
    "    total_amount FLOAT\n",
    ")\n",
    "''')\n",
    "\n",
    "# Generate sample data\n",
    "np.random.seed(42)\n",
    "num_records = 1000000\n",
    "customer_ids = np.random.randint(1, 10001, num_records)\n",
    "order_dates = pd.date_range(start='2020-01-01', end='2023-12-31', periods=num_records).strftime('%Y-%m-%d')\n",
    "total_amounts = np.random.uniform(10, 1000, num_records)\n",
    "\n",
    "# Insert data into the table\n",
    "cursor.executemany(\n",
    "    'INSERT INTO orders (customer_id, order_date, total_amount) VALUES (?, ?, ?)',\n",
    "    zip(customer_ids, order_dates, total_amounts)\n",
    ")\n",
    "conn.commit()\n",
    "\n",
    "print(f\"Created a table with {num_records} records.\")\n"
   ]
  },
  {
   "cell_type": "markdown",
   "id": "4bc87621-f082-4635-b79d-f7c45db34535",
   "metadata": {},
   "source": [
    "## Example 1: Demonstrating the impact of indexing\n"
   ]
  },
  {
   "cell_type": "code",
   "execution_count": 6,
   "id": "ae64a34a-017a-4934-bf2b-057fc0213761",
   "metadata": {},
   "outputs": [
    {
     "name": "stdout",
     "output_type": "stream",
     "text": [
      "\n",
      "Example 1: Impact of Indexing\n",
      "Query time without index: 0.2332 seconds\n"
     ]
    }
   ],
   "source": [
    "# Function to measure query execution time\n",
    "def measure_query_time(query):\n",
    "    start_time = time.time()\n",
    "    cursor.execute(query)\n",
    "    end_time = time.time()\n",
    "    return end_time - start_time\n",
    "\n",
    "print(\"\\nExample 1: Impact of Indexing\")\n",
    "\n",
    "# Query without index\n",
    "query_no_index = \"SELECT * FROM orders WHERE customer_id = 5000\"\n",
    "time_no_index = measure_query_time(query_no_index)\n",
    "print(f\"Query time without index: {time_no_index:.4f} seconds\")\n"
   ]
  },
  {
   "cell_type": "code",
   "execution_count": 7,
   "id": "be227f58-0739-4667-9ee4-9c1079e02c49",
   "metadata": {},
   "outputs": [
    {
     "name": "stdout",
     "output_type": "stream",
     "text": [
      "Query time with index: 0.0000 seconds\n",
      "Performance improvement: 99.99%\n"
     ]
    }
   ],
   "source": [
    "# Create an index on customer_id\n",
    "cursor.execute(\"CREATE INDEX idx_customer_id ON orders (customer_id)\")\n",
    "conn.commit()\n",
    "\n",
    "# Query with index\n",
    "time_with_index = measure_query_time(query_no_index)\n",
    "print(f\"Query time with index: {time_with_index:.4f} seconds\")\n",
    "print(f\"Performance improvement: {(time_no_index - time_with_index) / time_no_index * 100:.2f}%\")"
   ]
  },
  {
   "cell_type": "markdown",
   "id": "8e8e6869-cea9-4bf9-9fe1-9b2f6eeb5a1e",
   "metadata": {},
   "source": [
    "## Example 2: Query Optimization\n"
   ]
  },
  {
   "cell_type": "code",
   "execution_count": 8,
   "id": "3626cbce-016c-40e4-af27-ceb0c3ce36cf",
   "metadata": {},
   "outputs": [
    {
     "name": "stdout",
     "output_type": "stream",
     "text": [
      "\n",
      "Example 2: Query Optimization\n",
      "Inefficient query time: 0.7784 seconds\n",
      "Efficient query time: 0.5202 seconds\n",
      "Performance improvement: 33.17%\n"
     ]
    }
   ],
   "source": [
    "print(\"\\nExample 2: Query Optimization\")\n",
    "\n",
    "# Inefficient query\n",
    "inefficient_query = \"\"\"\n",
    "SELECT customer_id, COUNT(*) as order_count\n",
    "FROM orders\n",
    "WHERE total_amount > 500\n",
    "GROUP BY customer_id\n",
    "HAVING COUNT(*) > 10\n",
    "ORDER BY order_count DESC\n",
    "\"\"\"\n",
    "\n",
    "# Efficient query\n",
    "efficient_query = \"\"\"\n",
    "SELECT customer_id, COUNT(*) as order_count\n",
    "FROM orders\n",
    "WHERE total_amount > 500\n",
    "GROUP BY customer_id\n",
    "HAVING order_count > 10\n",
    "ORDER BY order_count DESC\n",
    "\"\"\"\n",
    "\n",
    "time_inefficient = measure_query_time(inefficient_query)\n",
    "time_efficient = measure_query_time(efficient_query)\n",
    "\n",
    "print(f\"Inefficient query time: {time_inefficient:.4f} seconds\")\n",
    "print(f\"Efficient query time: {time_efficient:.4f} seconds\")\n",
    "print(f\"Performance improvement: {(time_inefficient - time_efficient) / time_inefficient * 100:.2f}%\")\n"
   ]
  },
  {
   "cell_type": "markdown",
   "id": "5ab5004d-8fd3-4e2d-ad85-e179dcba74a2",
   "metadata": {},
   "source": [
    "## Example 3: Caching Strategy\n"
   ]
  },
  {
   "cell_type": "code",
   "execution_count": 9,
   "id": "5cd2d461-9006-40c5-bb0a-1abed3a51d93",
   "metadata": {},
   "outputs": [
    {
     "name": "stdout",
     "output_type": "stream",
     "text": [
      "\n",
      "Example 3: Caching Strategy\n",
      "Time without cache (1000 calls): 0.0021 seconds\n",
      "Time with cache (1000 calls): 0.0003 seconds\n"
     ]
    }
   ],
   "source": [
    "print(\"\\nExample 3: Caching Strategy\")\n",
    "\n",
    "import functools\n",
    "\n",
    "# Simple cache implementation\n",
    "def simple_cache(func):\n",
    "    cache = {}\n",
    "    @functools.wraps(func)\n",
    "    def wrapper(*args, **kwargs):\n",
    "        key = str(args) + str(kwargs)\n",
    "        if key not in cache:\n",
    "            cache[key] = func(*args, **kwargs)\n",
    "        return cache[key]\n",
    "    return wrapper\n",
    "\n",
    "# Function to get total orders for a customer\n",
    "@simple_cache\n",
    "def get_total_orders(customer_id):\n",
    "    cursor.execute(\"SELECT COUNT(*) FROM orders WHERE customer_id = ?\", (customer_id,))\n",
    "    return cursor.fetchone()[0]\n",
    "\n",
    "# Measure time without cache\n",
    "start_time = time.time()\n",
    "for _ in range(1000):\n",
    "    get_total_orders(5000)\n",
    "end_time = time.time()\n",
    "print(f\"Time without cache (1000 calls): {end_time - start_time:.4f} seconds\")\n",
    "\n",
    "# Measure time with cache\n",
    "start_time = time.time()\n",
    "for _ in range(1000):\n",
    "    get_total_orders(5000)\n",
    "end_time = time.time()\n",
    "print(f\"Time with cache (1000 calls): {end_time - start_time:.4f} seconds\")\n"
   ]
  },
  {
   "cell_type": "markdown",
   "id": "0cd6e308-6c03-4489-8fef-ddace589fd4b",
   "metadata": {},
   "source": [
    "## Example 4: Batch Processing\n"
   ]
  },
  {
   "cell_type": "code",
   "execution_count": 10,
   "id": "db9d8dc1-26f8-456c-9f79-3920001c92d7",
   "metadata": {},
   "outputs": [
    {
     "name": "stdout",
     "output_type": "stream",
     "text": [
      "\n",
      "Example 4: Batch Processing\n",
      "Time for individual inserts (100 records): 0.0055 seconds\n",
      "Time for batch insert (10000 records): 0.2049 seconds\n",
      "Batch insert is approximately 2.68 times faster per record\n"
     ]
    }
   ],
   "source": [
    "print(\"\\nExample 4: Batch Processing\")\n",
    "\n",
    "# Function to insert records one by one\n",
    "def insert_individual(records):\n",
    "    start_time = time.time()\n",
    "    for record in records:\n",
    "        cursor.execute(\"INSERT INTO orders (customer_id, order_date, total_amount) VALUES (?, ?, ?)\", record)\n",
    "    conn.commit()\n",
    "    end_time = time.time()\n",
    "    return end_time - start_time\n",
    "\n",
    "# Function to insert records in batch\n",
    "def insert_batch(records):\n",
    "    start_time = time.time()\n",
    "    cursor.executemany(\"INSERT INTO orders (customer_id, order_date, total_amount) VALUES (?, ?, ?)\", records)\n",
    "    conn.commit()\n",
    "    end_time = time.time()\n",
    "    return end_time - start_time\n",
    "\n",
    "# Generate sample records\n",
    "sample_records = [\n",
    "    (np.random.randint(1, 10001), \n",
    "     (pd.Timestamp('2023-01-01') + pd.Timedelta(days=i)).strftime('%Y-%m-%d'), \n",
    "     np.random.uniform(10, 1000))\n",
    "    for i in range(10000)\n",
    "]\n",
    "\n",
    "individual_time = insert_individual(sample_records[:100])  # Using only 100 records for individual insert to save time\n",
    "batch_time = insert_batch(sample_records)\n",
    "\n",
    "print(f\"Time for individual inserts (100 records): {individual_time:.4f} seconds\")\n",
    "print(f\"Time for batch insert (10000 records): {batch_time:.4f} seconds\")\n",
    "print(f\"Batch insert is approximately {individual_time / (batch_time / 100):.2f} times faster per record\")\n"
   ]
  },
  {
   "cell_type": "code",
   "execution_count": null,
   "id": "0b89f1e2-d47c-4780-b81c-926b2e160402",
   "metadata": {},
   "outputs": [],
   "source": []
  }
 ],
 "metadata": {
  "kernelspec": {
   "display_name": "Python 3 (ipykernel)",
   "language": "python",
   "name": "python3"
  },
  "language_info": {
   "codemirror_mode": {
    "name": "ipython",
    "version": 3
   },
   "file_extension": ".py",
   "mimetype": "text/x-python",
   "name": "python",
   "nbconvert_exporter": "python",
   "pygments_lexer": "ipython3",
   "version": "3.11.5"
  }
 },
 "nbformat": 4,
 "nbformat_minor": 5
}
